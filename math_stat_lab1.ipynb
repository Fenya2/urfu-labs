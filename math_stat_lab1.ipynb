{
 "cells": [
  {
   "cell_type": "markdown",
   "id": "b2d57880-b3d7-494d-b61e-be5bba622d11",
   "metadata": {},
   "source": [
    "Вспомогательные функции, библиотеки"
   ]
  },
  {
   "cell_type": "code",
   "execution_count": 1,
   "id": "6f3ae36d-5bee-4e3e-a43b-76a120a5d82c",
   "metadata": {
    "editable": true,
    "slideshow": {
     "slide_type": ""
    },
    "tags": []
   },
   "outputs": [],
   "source": [
    "from math import log10 as lg, floor\n",
    "from tabulate import tabulate\n",
    "import matplotlib.pyplot as plt"
   ]
  },
  {
   "attachments": {},
   "cell_type": "markdown",
   "id": "11e53f8b-e947-4a40-aea1-70197e84f534",
   "metadata": {
    "editable": true,
    "slideshow": {
     "slide_type": ""
    },
    "tags": []
   },
   "source": [
    "# Лабораторная работа 1\n",
    "*Сыромятников Дмитрий (КН-301)*\n",
    "\n",
    "Вариант $13$ (темп роста объема реализации продукции 100 предприятий, производящих стройматериалы)"
   ]
  },
  {
   "cell_type": "code",
   "execution_count": 2,
   "id": "fa69da25-74cc-4402-a093-e6751fcc4154",
   "metadata": {
    "editable": true,
    "slideshow": {
     "slide_type": ""
    },
    "tags": []
   },
   "outputs": [],
   "source": [
    "sample = [\n",
    "    100.0, 110.5, 75.2, 115.0, 90.5, 98.0, 100.0, 107.0, 92.0, 92.5,\n",
    "    88.8, 110.2, 71.5, 115.0, 115.0, 115.0, 121.8, 122.0, 107.0, 105.0,\n",
    "    91.4, 107.0, 92.0, 87.8, 88.1, 110.0, 110.0, 107.0, 102.0, 92.0,\n",
    "    107.0, 95.8, 100.0, 102.0, 102.0, 96.5, 110.0, 107.0, 102.0, 101.9,\n",
    "    105.0, 107.0, 81.3, 84.1, 102.0, 101.9, 105.0, 102.0, 100.0, 105.2,\n",
    "    87.0, 72.2, 74.1, 120.0, 91.5, 107.0, 97.6, 87.0, 100.0, 91.0,\n",
    "    98.1, 100.0, 80.2, 115.0, 81.3, 100.0, 102.0, 107.0, 107.0, 107.0,\n",
    "    98.0, 107.0, 103.2, 115.0, 127.4, 102.0, 115.0, 81.2, 103.3, 102.4,\n",
    "    113.3, 96.6, 102.0, 102.0, 92.0, 91.1, 107.0, 102.1, 102.0, 89.0,\n",
    "    105.0, 100.0, 83.2, 97.5, 107.1, 76.0, 122.0, 100.0, 98.0, 111.5\n",
    "]"
   ]
  },
  {
   "cell_type": "markdown",
   "id": "617cde1a-0431-4531-a394-fbd5fe5444ca",
   "metadata": {
    "editable": true,
    "slideshow": {
     "slide_type": ""
    },
    "tags": []
   },
   "source": [
    "# 1\n",
    "\n",
    "По выборке *sample* объемом $n=100$ построить интервальный вариационный ряд"
   ]
  },
  {
   "cell_type": "code",
   "execution_count": 3,
   "id": "69b0cdb8-56a8-40bc-a398-d9ef9b0c102e",
   "metadata": {
    "editable": true,
    "slideshow": {
     "slide_type": ""
    },
    "tags": []
   },
   "outputs": [],
   "source": [
    "n = len(sample)"
   ]
  },
  {
   "cell_type": "markdown",
   "id": "ed066188-e4ec-406b-ae8d-bbca948d0d5c",
   "metadata": {
    "editable": true,
    "slideshow": {
     "slide_type": ""
    },
    "tags": []
   },
   "source": [
    "## Вычисление отрезка $[a,b]$, на котором лежат все элементы выборки"
   ]
  },
  {
   "cell_type": "code",
   "execution_count": 4,
   "id": "df7058e0-aeee-47a3-974a-88e8353155ba",
   "metadata": {
    "editable": true,
    "slideshow": {
     "slide_type": ""
    },
    "tags": []
   },
   "outputs": [],
   "source": [
    "a, b = min(sample), max(sample)"
   ]
  },
  {
   "cell_type": "markdown",
   "id": "9cc83861-4e61-4186-a11b-e558eb417a6d",
   "metadata": {
    "editable": true,
    "slideshow": {
     "slide_type": ""
    },
    "tags": []
   },
   "source": [
    "## Расчет числа полуинтервалов $k$, на которые нужно разбить $[a,b]$\n",
    "Вычисляем по [формуле Стёрджеса](https://ru.wikipedia.org/wiki/%D0%9F%D1%80%D0%B0%D0%B2%D0%B8%D0%BB%D0%BE_%D0%A1%D1%82%D1%91%D1%80%D0%B4%D0%B6%D0%B5%D1%81%D0%B0)\n",
    "\n",
    "$$\n",
    "k = 1 + \\lfloor 3.322lg(n) \\rfloor\n",
    "$$"
   ]
  },
  {
   "cell_type": "code",
   "execution_count": 5,
   "id": "96c3dbf3-f2d6-4bc4-96d8-b91ad341d1c1",
   "metadata": {
    "editable": true,
    "slideshow": {
     "slide_type": ""
    },
    "tags": []
   },
   "outputs": [],
   "source": [
    "k = 1 + floor(3.322 * lg(n))"
   ]
  },
  {
   "cell_type": "markdown",
   "id": "bdc2b435-a7ce-4a1a-90e7-96f8710f5800",
   "metadata": {
    "editable": true,
    "slideshow": {
     "slide_type": ""
    },
    "tags": []
   },
   "source": [
    "## Расчет длины $h$ частичных полуинтервалов"
   ]
  },
  {
   "cell_type": "markdown",
   "id": "caec27e6-5645-4d82-8371-97c86b689f84",
   "metadata": {
    "editable": true,
    "slideshow": {
     "slide_type": ""
    },
    "tags": []
   },
   "source": [
    "Для этого находим размах выборки $R$"
   ]
  },
  {
   "cell_type": "code",
   "execution_count": 6,
   "id": "c1ee7d21-00a5-4892-8452-26b1c05241a9",
   "metadata": {
    "editable": true,
    "slideshow": {
     "slide_type": ""
    },
    "tags": []
   },
   "outputs": [],
   "source": [
    "R = b - a"
   ]
  },
  {
   "cell_type": "markdown",
   "id": "b2b220b1-72b0-4a5b-ac51-b4e47ed52b49",
   "metadata": {
    "editable": true,
    "slideshow": {
     "slide_type": ""
    },
    "tags": []
   },
   "source": [
    "и вычисляем длину частичных полуинтервалов $h$ по формуле:\n",
    "\n",
    "$$\n",
    "h = \\frac{R}{k}\n",
    "$$"
   ]
  },
  {
   "cell_type": "code",
   "execution_count": 7,
   "id": "42f8cf4c-d8db-4748-a7c7-a16576beffec",
   "metadata": {
    "editable": true,
    "slideshow": {
     "slide_type": ""
    },
    "tags": []
   },
   "outputs": [],
   "source": [
    "h = R / k"
   ]
  },
  {
   "cell_type": "markdown",
   "id": "cdca4875-347b-425d-860a-305bd5d6f066",
   "metadata": {
    "editable": true,
    "slideshow": {
     "slide_type": ""
    },
    "tags": []
   },
   "source": [
    "## Разбитие отрезка $[a,b]$ на полуинтервалы длины $h$\n",
    "\n",
    "Разбиваем отрезок $[a, b]$ на вычисленные полуинтервалы естественным образом со смещением самого левого интервала на $\\frac{h}{2}$ влево от $a$ и увеличением числа интервалов на 1 (интервалов станет на 1 больше, чем $k$)"
   ]
  },
  {
   "cell_type": "code",
   "execution_count": 8,
   "id": "d7ee6978-f727-4f24-8e54-f00cbd26aae4",
   "metadata": {
    "editable": true,
    "slideshow": {
     "slide_type": ""
    },
    "tags": []
   },
   "outputs": [],
   "source": [
    "start = a - h/2\n",
    "k_ = k + 1\n",
    "intervals = set((start + h * i, start + h * (i + 1)) for i in range(k_))"
   ]
  },
  {
   "cell_type": "markdown",
   "id": "f1f47bdb-db51-4ede-8c30-c9a1c58a2990",
   "metadata": {
    "editable": true,
    "slideshow": {
     "slide_type": ""
    },
    "tags": []
   },
   "source": [
    "## Расчет числа элементов выборки *sample*, принадлежащих каждому частичному интервалу\n",
    "Ставим каждому найденному частичному интервалу в множестве частичных интервалов *intervals* в соответствие число элементов выборки, которые попадают в рассматриваемый частичный интервал. Получим отображение из множества частичных интервалов в число элементов выборки на этих интервалах *frequencies*"
   ]
  },
  {
   "cell_type": "code",
   "execution_count": 9,
   "id": "b0b84135-bc85-4240-b005-6bd782cdc5e7",
   "metadata": {
    "editable": true,
    "slideshow": {
     "slide_type": ""
    },
    "tags": []
   },
   "outputs": [],
   "source": [
    "frequencies = {}\n",
    "\n",
    "for interval in intervals:\n",
    "    frequencies[interval] = sum(1 for element in sample if interval[0] <= element < interval[1])"
   ]
  },
  {
   "cell_type": "markdown",
   "id": "83585ab2-7964-49f4-af62-98f23cf30667",
   "metadata": {},
   "source": [
    "## Получение интервального вариационного ряда выборки *sample*\n",
    "Упорядочим полученные пары $frequencies$ в естественном для интервалов порядке"
   ]
  },
  {
   "cell_type": "code",
   "execution_count": 10,
   "id": "95d6872f-740d-473e-8270-b4047dff1398",
   "metadata": {},
   "outputs": [],
   "source": [
    "gfd = sorted(frequencies.items(), key=lambda item: item[0][0])"
   ]
  },
  {
   "cell_type": "markdown",
   "id": "f330cae8-b225-46cc-9718-87b5fec2d6ba",
   "metadata": {},
   "source": [
    "Выпишем полученный интервальный вариационный ряд *[gfd](https://thirdspacelearning.com/gcse-maths/statistics/grouped-frequency-table/)* выборки sample в виде таблицы *gfdt*. Значения на концах частичных интервалов округлим до 2 знаков после запятой"
   ]
  },
  {
   "cell_type": "code",
   "execution_count": 11,
   "id": "a7e73e5a-597e-414b-82a5-7154f7f15638",
   "metadata": {},
   "outputs": [
    {
     "name": "stdout",
     "output_type": "stream",
     "text": [
      "| Interval         |   Frequency |\n",
      "|------------------|-------------|\n",
      "| (67.51, 75.49)   |           4 |\n",
      "| (75.49, 83.48)   |           6 |\n",
      "| (83.48, 91.46)   |          11 |\n",
      "| (91.46, 99.45)   |          15 |\n",
      "| (99.45, 107.44)  |          45 |\n",
      "| (107.44, 115.42) |          14 |\n",
      "| (115.42, 123.41) |           4 |\n",
      "| (123.41, 131.39) |           1 |\n"
     ]
    }
   ],
   "source": [
    "gfdt = [(f\"({start:.2f}, {end:.2f})\", freq) for (start, end), freq in gfd]\n",
    "print(tabulate(gfdt, headers=[\"Interval\", \"Frequency\"], tablefmt=\"github\"))"
   ]
  },
  {
   "cell_type": "markdown",
   "id": "ee948843-0482-44e5-aeb1-0740609b1b69",
   "metadata": {},
   "source": [
    "# 2\n",
    "\n",
    "Вычислить частоты, частости попадания данных в частичные интервалы, накопленные частоты и частости, аналог плотности распределения."
   ]
  },
  {
   "cell_type": "markdown",
   "id": "0a7e90e9-4f7d-4097-bce1-ef1573bd6df3",
   "metadata": {},
   "source": [
    "## Вычисление частот\n",
    "\n",
    "При построении интервального вариационного ряда заодно получили искомые частоты *frequencies* для каждого найденного интервального ряда. Их можно увидеть в таблице *gfdt* выше"
   ]
  },
  {
   "cell_type": "markdown",
   "id": "d7620c17-4e87-41cb-9455-67b5107fa5c6",
   "metadata": {},
   "source": [
    "## Вычисление частостей попадания данных в частичные интервалы\n",
    "\n",
    "Обозначим $n_i$ частоту, соответствующею $i$-му рассматриваемому частичному интервалу. Тогда искомая частость $\\hat{p}_i$ для $i$-го частичного интервала вычисляются по формуле:\n",
    "\n",
    "$$\n",
    "\\hat{p}_i = \\frac{n_i}{n}\n",
    "$$\n",
    "\n",
    "Вычислим искомые частости *rel_frequencies* по формуле для каждого частичного интервала"
   ]
  },
  {
   "cell_type": "code",
   "execution_count": 12,
   "id": "48fd7ec8-f091-4f18-8d14-26b8e6257172",
   "metadata": {},
   "outputs": [],
   "source": [
    "rel_frequencies = { interval: frequency / n for interval, frequency in gfd}"
   ]
  },
  {
   "cell_type": "markdown",
   "id": "c705f1ad-7e30-4bc6-bffd-500ad9bbfe7b",
   "metadata": {},
   "source": [
    "Выпишем полученные частости для каждого частичного интервала в виде таблицы *rel_frequencies_table*, упорядочив строки таблицы в порядке следования соответвующих частичных интервалов. Значения на концах частичных интервалов округлим до 2 знаков после запятой"
   ]
  },
  {
   "cell_type": "code",
   "execution_count": 13,
   "id": "c36fdacb-a26e-4982-82e8-55dcfe9dc42b",
   "metadata": {},
   "outputs": [
    {
     "name": "stdout",
     "output_type": "stream",
     "text": [
      "| Interval         |   Relative frequency |\n",
      "|------------------|----------------------|\n",
      "| (67.51, 75.49)   |                 0.04 |\n",
      "| (75.49, 83.48)   |                 0.06 |\n",
      "| (83.48, 91.46)   |                 0.11 |\n",
      "| (91.46, 99.45)   |                 0.15 |\n",
      "| (99.45, 107.44)  |                 0.45 |\n",
      "| (107.44, 115.42) |                 0.14 |\n",
      "| (115.42, 123.41) |                 0.04 |\n",
      "| (123.41, 131.39) |                 0.01 |\n"
     ]
    }
   ],
   "source": [
    "rel_frequencies_table = [(f\"({start:.2f}, {end:.2f})\", rel_freq) for (start, end), rel_freq in rel_frequencies.items()]\n",
    "print(tabulate(rel_frequencies_table, headers=[\"Interval\", \"Relative frequency\"], tablefmt=\"github\"))"
   ]
  },
  {
   "cell_type": "markdown",
   "id": "f0792d7f-3e06-4329-9afe-22950ffc2cbd",
   "metadata": {},
   "source": [
    "## Вычисление накопленных частот\n",
    "\n",
    "Для вычисления накопленных частот для каждого частичного интервала воспользуемся рекурентным определением накопительной частоты (естественно обобщается до работы с частичными интервалами)\n",
    "\n",
    "Рекурентное определение накопительной частоты:\n",
    "\n",
    ">Упорядочим варианты выборки по возрастанию. *Накопительная частота* $n_{x_0}$ варианта $x_0$ совпадает с его частотой $n_0$. *Накопительная частота* $n_{x_i}$ варианта $x_i$ вычисляется по формуле\n",
    ">\n",
    ">$$\n",
    "n_{x_i} = n_{x_{i-1}} + n_i\n",
    "$$\n",
    ">\n",
    ">где $n_i$ - частота варианта $x_i$\n",
    "\n",
    "Вычислим накопленные частоты *acc_frequencies* для каждого интервала, воспользовавшись формулой из рекурентного определения"
   ]
  },
  {
   "cell_type": "code",
   "execution_count": 14,
   "id": "9f406065-f266-42a1-89ae-9a295c4a930c",
   "metadata": {},
   "outputs": [],
   "source": [
    "acc_frequencies = {gfd[0][0] : gfd[0][1]}\n",
    "for i in range(1, len(gfd)):\n",
    "    previous_interval = gfd[i-1][0]\n",
    "    interval = gfd[i][0]\n",
    "    frequency = gfd[i][1]\n",
    "    acc_frequencies[interval] = acc_frequencies[previous_interval] + frequency"
   ]
  },
  {
   "cell_type": "markdown",
   "id": "8ee3145e-1c0c-4345-b8ab-19fc0dd76ee3",
   "metadata": {},
   "source": [
    "Выпишем полученные накопленные частоты для каждого частичного интервала в виде таблицы *acc_frequencies_table*, упорядочив строки таблицы в порядке следования соответствующих частичных интервалов. Значения на концах частичных интервалов округлим до 2 знаков после запятой"
   ]
  },
  {
   "cell_type": "code",
   "execution_count": 15,
   "id": "49924367-0cb5-4ff8-a48a-9fb275554335",
   "metadata": {},
   "outputs": [
    {
     "name": "stdout",
     "output_type": "stream",
     "text": [
      "| Interval         |   Accumulative frequency |\n",
      "|------------------|--------------------------|\n",
      "| (67.51, 75.49)   |                        4 |\n",
      "| (75.49, 83.48)   |                       10 |\n",
      "| (83.48, 91.46)   |                       21 |\n",
      "| (91.46, 99.45)   |                       36 |\n",
      "| (99.45, 107.44)  |                       81 |\n",
      "| (107.44, 115.42) |                       95 |\n",
      "| (115.42, 123.41) |                       99 |\n",
      "| (123.41, 131.39) |                      100 |\n"
     ]
    }
   ],
   "source": [
    "acc_frequencies_table = [(f\"({start:.2f}, {end:.2f})\", rel_freq) for (start, end), rel_freq in acc_frequencies.items()]\n",
    "print(tabulate(acc_frequencies_table, headers=[\"Interval\", \"Accumulative frequency\"], tablefmt=\"github\"))"
   ]
  },
  {
   "cell_type": "markdown",
   "id": "896a6978-8909-46bf-ac4c-fde7e3071f42",
   "metadata": {},
   "source": [
    "## Вычисление накопленных частостей\n",
    "\n",
    "Для вычисления накопленных частотей для каждого частичного интервала воспользуемся формулой из определения относительной накопительной частоты (естественно обобщается до работы с частичными интервалами)\n",
    "\n",
    "Определение относительной накопительной частоты (накопленной частости)\n",
    "\n",
    ">Пусть в выборке объема $n$ рассчитана накопительная частота $n_{x_i}$. Тогда относительной накопительной частотой называется величина $\\hat{p}_{x_i}$\n",
    "\n",
    "$$\n",
    "\\hat{p}_{x_i} = \\frac{n_{x_i}}{n}\n",
    "$$\n",
    "\n",
    "Вычислим накопленные частости *rel_acc_frequencies* для каждого интервала, воспользовавшись формулой из определения"
   ]
  },
  {
   "cell_type": "code",
   "execution_count": 16,
   "id": "835096f5-7682-459c-8753-fbc5ce5b49a8",
   "metadata": {},
   "outputs": [],
   "source": [
    "rel_acc_frequencies = {interval: acc_frequency / n for interval, acc_frequency in acc_frequencies.items()}"
   ]
  },
  {
   "cell_type": "markdown",
   "id": "be686ce2-d6df-486d-a2ae-9af97d628ea6",
   "metadata": {},
   "source": [
    "Выпишем полученные накопленные частости для каждого частичного интервала в виде таблицы *rel_acc_frequencies_table*, упорядочив строки таблицы в порядке следования соответствующих частичных интервалов. Значения на концах частичных интервалов округлим до 2 знаков после запятой"
   ]
  },
  {
   "cell_type": "code",
   "execution_count": 17,
   "id": "63872e45-f355-41d0-ac9a-1c024bcf61f8",
   "metadata": {},
   "outputs": [
    {
     "name": "stdout",
     "output_type": "stream",
     "text": [
      "| Interval         |   Relative accumulative frequency |\n",
      "|------------------|-----------------------------------|\n",
      "| (67.51, 75.49)   |                              0.04 |\n",
      "| (75.49, 83.48)   |                              0.1  |\n",
      "| (83.48, 91.46)   |                              0.21 |\n",
      "| (91.46, 99.45)   |                              0.36 |\n",
      "| (99.45, 107.44)  |                              0.81 |\n",
      "| (107.44, 115.42) |                              0.95 |\n",
      "| (115.42, 123.41) |                              0.99 |\n",
      "| (123.41, 131.39) |                              1    |\n"
     ]
    }
   ],
   "source": [
    "rel_acc_frequencies_table = [(f\"({start:.2f}, {end:.2f})\", rel_acc_freq) for (start, end), rel_acc_freq in rel_acc_frequencies.items()]\n",
    "print(tabulate(rel_acc_frequencies_table, headers=[\"Interval\", \"Relative accumulative frequency\"], tablefmt=\"github\"))"
   ]
  },
  {
   "cell_type": "markdown",
   "id": "c30c5f1f-1be6-40ee-b145-c981dfd10eed",
   "metadata": {},
   "source": [
    "## Вычисление аналога функции плотности распределения\n",
    "Для вычисления аналога функции плотности распределения [pdf](https://en.wikipedia.org/wiki/Probability_density_function) для каждого частичного интервала поделим частость $\\hat{p}$ на этом интервале на длину интервала $h$"
   ]
  },
  {
   "cell_type": "code",
   "execution_count": 18,
   "id": "2d64cb0e-ea7f-4f28-bfec-b7ff2514efb3",
   "metadata": {},
   "outputs": [],
   "source": [
    "pdf = {interval: rel_frequency / h for interval, rel_frequency in rel_frequencies.items()}"
   ]
  },
  {
   "cell_type": "markdown",
   "id": "ec01aa3f-0d0b-4fe2-abcc-4532fa7d6fe0",
   "metadata": {},
   "source": [
    "Выпишем полученные значения аналога функции плотности распределения для каждого частичного интервала в виде таблицы *pdf_table*, упорядочив строки таблицы в порядке следования соответствующих частичных интервалов. Значения на концах частичных интервалов округлим до 2 знаков после запятой, значения аналога функции до 4 знаков после "
   ]
  },
  {
   "cell_type": "code",
   "execution_count": 19,
   "id": "97f98a5b-1c82-4830-b8ca-74c555dfcb29",
   "metadata": {},
   "outputs": [
    {
     "name": "stdout",
     "output_type": "stream",
     "text": [
      "| Interval         |   pdf analog value |\n",
      "|------------------|--------------------|\n",
      "| (67.51, 75.49)   |             0.005  |\n",
      "| (75.49, 83.48)   |             0.0075 |\n",
      "| (83.48, 91.46)   |             0.0138 |\n",
      "| (91.46, 99.45)   |             0.0188 |\n",
      "| (99.45, 107.44)  |             0.0564 |\n",
      "| (107.44, 115.42) |             0.0175 |\n",
      "| (115.42, 123.41) |             0.005  |\n",
      "| (123.41, 131.39) |             0.0013 |\n"
     ]
    }
   ],
   "source": [
    "pdf_table = [(f\"({start:.2f}, {end:.2f})\", f\"{pdf_value:.4f}\") for (start, end), pdf_value in pdf.items()]\n",
    "print(tabulate(pdf_table, headers=[\"Interval\", \"pdf analog value\"], tablefmt=\"github\"))"
   ]
  },
  {
   "cell_type": "markdown",
   "id": "88d7d93b-9fe3-417f-85fc-adbe6e566000",
   "metadata": {},
   "source": [
    "# 3\n",
    "\n",
    "Построить графики:\n",
    "\n",
    "1) Гистограмму частот;\n",
    "2) Эмпирическую функцию распределения (кумулянту)\n",
    "3) Эмпирическую плотность распределения."
   ]
  },
  {
   "cell_type": "markdown",
   "id": "0a9c5d9f-f99d-4972-9104-6f4c8a16101e",
   "metadata": {},
   "source": [
    "## Построение гистограммы частот\n",
    "\n",
    "Для построения гистограммы частот для каждого частичного интервала под номером $i$ вычислим высоту соответвующего прямоугольника $h_i$ на гистограмме по формуле:\n",
    "\n",
    "$$\n",
    "h_i = \\frac{n_i}{h} \n",
    "$$\n"
   ]
  },
  {
   "cell_type": "code",
   "execution_count": 20,
   "id": "9bda1bcf-86ff-4b32-ba90-829bb8c9fb4e",
   "metadata": {},
   "outputs": [],
   "source": [
    "histogram_data = { interval: frequency / h for interval, frequency in gfd}"
   ]
  },
  {
   "cell_type": "markdown",
   "id": "65749929-9db7-4f3a-9708-8879a21e2d75",
   "metadata": {},
   "source": [
    "И построим гистограмму частоту на основе вычисленных данных *histogram_data*"
   ]
  },
  {
   "cell_type": "code",
   "execution_count": 21,
   "id": "149f8822-cc1a-4da6-9193-48f582cffe9a",
   "metadata": {},
   "outputs": [
    {
     "data": {
      "image/png": "[encoded data removed]",
      "text/plain": [
       "<Figure size 640x480 with 1 Axes>"
      ]
     },
     "metadata": {},
     "output_type": "display_data"
    }
   ],
   "source": [
    "histogram_intervals = list(histogram_data.keys())\n",
    "histogram_frequencies = list(histogram_data.values())\n",
    "\n",
    "left_edges = [start for start, _ in histogram_intervals]\n",
    "right_edges = [end for _, end in histogram_intervals]\n",
    "widths = [end - start for start, end in histogram_intervals]\n",
    "\n",
    "plt.bar(left_edges, histogram_frequencies, width=widths, edgecolor='black', align='edge', alpha=0.7)\n",
    "\n",
    "xticks = sorted(set(left_edges + right_edges))\n",
    "plt.xticks(xticks, [f\"{x:.2f}\" for x in xticks], rotation=45)\n",
    "\n",
    "plt.xlabel('$x_i$')\n",
    "plt.ylabel('$\\\\frac{n_i}{h}$')\n",
    "plt.title('Гистограмма частот')\n",
    "\n",
    "plt.show()"
   ]
  },
  {
   "cell_type": "markdown",
   "id": "e52dff86-9200-42ab-8839-898b10ca5435",
   "metadata": {},
   "source": [
    "## Построение графика эмпирической функции распределения (кумулянты)\n",
    "\n",
    "График эмпирической функции распределения строится по аналогии с гистограммой частот на основе вычисленных накопленных частостей *rel_acc_frequencies*"
   ]
  },
  {
   "cell_type": "code",
   "execution_count": 22,
   "id": "5f14dd55-6ef3-4328-917b-22850168d700",
   "metadata": {},
   "outputs": [
    {
     "data": {
      "image/png": "[encoded data removed]",
      "text/plain": [
       "<Figure size 1000x600 with 1 Axes>"
      ]
     },
     "metadata": {},
     "output_type": "display_data"
    }
   ],
   "source": [
    "intervals = list(rel_acc_frequencies.keys())\n",
    "cum_values = list(rel_acc_frequencies.values())\n",
    "\n",
    "x_step = [interval[0] for interval in intervals] + [intervals[-1][1]]\n",
    "y_step = [0] + cum_values\n",
    "\n",
    "plt.figure(figsize=(10, 6))\n",
    "plt.step(x_step, y_step, where='post', color='b', linewidth=2)\n",
    "plt.xlabel('$x_i$')\n",
    "plt.ylabel('$\\\\hat{p_{x_i}}$')\n",
    "plt.title('Эмпирическая функция распределения (Кумулянта)')\n",
    "plt.ylim(0, 1.05) # Добавляем немного места сверху\n",
    "plt.grid(True, alpha=0.3)\n",
    "plt.show()"
   ]
  },
  {
   "cell_type": "markdown",
   "id": "2d30fe48-db81-4434-aa77-9319f7239576",
   "metadata": {},
   "source": [
    "## Построение графика эмпирической плотности распределения\n",
    "\n",
    "График эмпирической плотности распределения строится по аналогии с гистограммой частот на основе вычисленного аналога функции плотности распределения *pdf*"
   ]
  },
  {
   "cell_type": "code",
   "execution_count": 23,
   "id": "560db472-5b0d-48ae-8a70-b534371b13cc",
   "metadata": {},
   "outputs": [
    {
     "data": {
      "image/png": "[encoded data removed]",
      "text/plain": [
       "<Figure size 640x480 with 1 Axes>"
      ]
     },
     "metadata": {},
     "output_type": "display_data"
    }
   ],
   "source": [
    "histogram_intervals = list(pdf.keys())\n",
    "histogram_frequencies = list(pdf.values())\n",
    "\n",
    "left_edges = [start for start, _ in histogram_intervals]\n",
    "right_edges = [end for _, end in histogram_intervals]\n",
    "widths = [end - start for start, end in histogram_intervals]\n",
    "\n",
    "plt.bar(left_edges, histogram_frequencies, width=widths, edgecolor='black', align='edge', alpha=0.7)\n",
    "\n",
    "xticks = sorted(set(left_edges + right_edges))\n",
    "plt.xticks(xticks, [f\"{x:.2f}\" for x in xticks], rotation=45)\n",
    "\n",
    "plt.xlabel('$x_i$')\n",
    "plt.ylabel('$\\\\frac{\\\\hat{p_i}}{h}$')\n",
    "plt.title('Эмпирическая плотности распределения')\n",
    "\n",
    "plt.show()"
   ]
  },
  {
   "cell_type": "markdown",
   "id": "83f2e3ee-af42-47ee-9975-d3b95711f439",
   "metadata": {},
   "source": [
    "# 4\n",
    "\n",
    "Определить выборочные характеристики распределения:\n",
    "\n",
    "- выборочное среднее $\\hat{X}$\n",
    "- выборочную дисперсию $\\hat{D}$\n",
    "- выборочное среднее квадратическое отклонение $\\hat{\\delta}$\n",
    "- выборочный коэффициент асимметрии $\\hat{A}$\n",
    "- выборочный коэффициент эксцесса $\\hat{E}$\n",
    "- выборочные моду и медиану $\\widehat{Mo}$, $\\widehat{Me}$\n",
    "- коэффициент вариации $\\hat{V}$"
   ]
  },
  {
   "cell_type": "markdown",
   "id": "9ce8b79c-a6ef-4568-86df-98e684769181",
   "metadata": {},
   "source": [
    "## Вычисление выборочного среднего\n",
    "\n",
    "Выборочное среднее $\\hat{X}$ (*mean*) вычислим по формуле:\n",
    "\n",
    "$$\n",
    "\\hat{X} = \\sum_ix_i \\hat{p_i}\n",
    "$$\n",
    "\n",
    "Где в качестве $x_i$ возьмем середины соответствующих частичных интервалов"
   ]
  },
  {
   "cell_type": "code",
   "execution_count": 24,
   "id": "5178b287-2995-419c-b92e-8414993860ca",
   "metadata": {},
   "outputs": [],
   "source": [
    "mean = sum((interval[0] + h / 2) * rel_freq for interval, rel_freq in rel_frequencies.items())"
   ]
  },
  {
   "cell_type": "markdown",
   "id": "eeadd1cb-7ba0-4190-90f3-44679aeb6b5c",
   "metadata": {},
   "source": [
    "Значение выборочного среднего для рассматриваемой выборки"
   ]
  },
  {
   "cell_type": "code",
   "execution_count": 25,
   "id": "b8474901-efdb-417a-ab38-b13f5007a028",
   "metadata": {},
   "outputs": [
    {
     "name": "stdout",
     "output_type": "stream",
     "text": [
      "99.76942857142858\n"
     ]
    }
   ],
   "source": [
    "print(mean)"
   ]
  },
  {
   "cell_type": "markdown",
   "id": "abc5b544-3ec7-411e-80ca-91900785d00d",
   "metadata": {},
   "source": [
    "## Вычисление выборочной дисперсии\n",
    "\n",
    "Выборочная дисперсия $\\hat{D}$ (*variance*) вычисляется по формуле\n",
    "\n",
    "$$\n",
    "\\hat{D} = \\sum_i \\hat{p}_i (x_i - \\hat{X})^2\n",
    "$$\n",
    "\n",
    "где в качестве $x_i$ берутся середины соответствующих частичных интервалов"
   ]
  },
  {
   "cell_type": "code",
   "execution_count": 26,
   "id": "a60f12c7-76fb-40b8-af30-d040da1f4f76",
   "metadata": {},
   "outputs": [],
   "source": [
    "variance = sum(rel_freq * ((interval[0] + h/2) - mean)**2  for interval, rel_freq in rel_frequencies.items())"
   ]
  },
  {
   "cell_type": "markdown",
   "id": "4e80d48a-ddb7-4f5a-8242-fd0c8086d395",
   "metadata": {},
   "source": [
    "Значение выборочной дисперсии для рассматриваемой выборки"
   ]
  },
  {
   "cell_type": "code",
   "execution_count": 27,
   "id": "7b45e006-4de6-42c3-b40e-353f53f99b3a",
   "metadata": {},
   "outputs": [
    {
     "name": "stdout",
     "output_type": "stream",
     "text": [
      "124.25264906122455\n"
     ]
    }
   ],
   "source": [
    "print(variance)"
   ]
  },
  {
   "cell_type": "markdown",
   "id": "1b89de46-4808-4893-b721-31f55ee1c7b2",
   "metadata": {},
   "source": [
    "## Вычисление выборочного среднего квадратического отклонения\n",
    "\n",
    "выборочное среднее квадратическое отклонение (*standard_deviation*) вычисляется по формуле:\n",
    "\n",
    "$$\n",
    "\\hat{\\delta} = \\sqrt{\\hat{D}}\n",
    "$$"
   ]
  },
  {
   "cell_type": "code",
   "execution_count": 28,
   "id": "7274710f-679a-4bdb-88b6-e8d926764320",
   "metadata": {},
   "outputs": [],
   "source": [
    "standard_deviation = variance**0.5"
   ]
  },
  {
   "cell_type": "markdown",
   "id": "0cd0e62c-d5f1-406f-a181-5f4acaf22d72",
   "metadata": {},
   "source": [
    "Значение выборочного среднего квадратического отклонения для рассматриваемой выборки"
   ]
  },
  {
   "cell_type": "code",
   "execution_count": 29,
   "id": "2c762d38-de5f-43d6-a50e-82e20309aadf",
   "metadata": {},
   "outputs": [
    {
     "name": "stdout",
     "output_type": "stream",
     "text": [
      "11.146867230806356\n"
     ]
    }
   ],
   "source": [
    "print(standard_deviation)"
   ]
  },
  {
   "cell_type": "markdown",
   "id": "1f228328-7a54-4303-b5a8-5995e4b1f5f3",
   "metadata": {},
   "source": [
    "## Вычисление выборочного коэффициента асимметрии \n",
    "\n",
    "Выборочный коэффициент асимметрии (*skewness*) вычисляется по формуле:\n",
    "\n",
    "$$\n",
    "\\hat{A} = \\frac{\\sum_i \\hat{p_i}(x_i - \\hat{X})^3}{\\hat{\\delta}^3}\n",
    "$$\n",
    "\n",
    "где в качестве $x_i$ берутся середины соответствующих частичных интервалов"
   ]
  },
  {
   "cell_type": "code",
   "execution_count": 30,
   "id": "ab9ba761-ba66-4d45-8dc3-ac672e8fe019",
   "metadata": {},
   "outputs": [],
   "source": [
    "skewness = sum(rel_freq * ((interval[0] + h/2) - mean)**3  for interval, rel_freq in rel_frequencies.items()) / standard_deviation**3"
   ]
  },
  {
   "cell_type": "markdown",
   "id": "7895f9b2-0658-4c5f-8283-57fc81039d6b",
   "metadata": {},
   "source": [
    "Значение выборочного коэффициента асимметрии для рассматриваемой выборки"
   ]
  },
  {
   "cell_type": "code",
   "execution_count": 31,
   "id": "145c96de-8a54-478b-a5bb-0ef66572b0af",
   "metadata": {},
   "outputs": [
    {
     "name": "stdout",
     "output_type": "stream",
     "text": [
      "-0.6228212298507378\n"
     ]
    }
   ],
   "source": [
    "print(skewness)"
   ]
  },
  {
   "cell_type": "markdown",
   "id": "47a44dd3-801d-4fad-b17c-c211331ade29",
   "metadata": {},
   "source": [
    "## Вычисление выборочного коэффициент эксцесса \n",
    "\n",
    "Выборочный коэффициент эксцесса (*kurtosis*) вычисляется по формуле \n",
    "\n",
    "$$\n",
    "\\hat{E} = \\frac{\\sum_i \\hat{p_i}(x_i - \\hat{X})^4}{\\hat{\\delta}^4} - 3\n",
    "$$\n",
    "\n",
    "где в качестве $x_i$ берутся середины соответствующих частичных интервалов"
   ]
  },
  {
   "cell_type": "code",
   "execution_count": 32,
   "id": "08e83f24-d0c6-4109-8e9f-dc0e9507acf6",
   "metadata": {},
   "outputs": [],
   "source": [
    "kurtosis = (sum(rel_freq * ((interval[0] + h/2) - mean)**4  for interval, rel_freq in rel_frequencies.items()) / standard_deviation**4) - 3"
   ]
  },
  {
   "cell_type": "markdown",
   "id": "183ddc19-c84a-4961-a8d7-c83298e21221",
   "metadata": {},
   "source": [
    "Значение выборочного коэффициента эксцесса для рассматриваемой выборки"
   ]
  },
  {
   "cell_type": "code",
   "execution_count": 33,
   "id": "cf7b5fa5-b1b8-4048-88af-bbae21c23ab1",
   "metadata": {},
   "outputs": [
    {
     "name": "stdout",
     "output_type": "stream",
     "text": [
      "0.41515164325198795\n"
     ]
    }
   ],
   "source": [
    "print(kurtosis)"
   ]
  },
  {
   "cell_type": "markdown",
   "id": "8e875224-a913-4af1-9b4d-7351c7b8c007",
   "metadata": {},
   "source": [
    "## Вычисление выборочной моды\n",
    "\n",
    "Для вычисления выборочной моды найдем модальный интервал (*modal_class*) среди частичных интервалов построенного интервального вариационного ряда *gfd*, частоту на модальном интервале (*n_modal_class*)"
   ]
  },
  {
   "cell_type": "code",
   "execution_count": 34,
   "id": "d614f943-2fa3-4e28-a9c7-b13c3286aac4",
   "metadata": {},
   "outputs": [],
   "source": [
    "modal_class, n_modal_class = max(gfd, key=lambda gfd_elem: gfd_elem[1])"
   ]
  },
  {
   "cell_type": "markdown",
   "id": "409ca142-044d-491d-8d99-c3b88c37de77",
   "metadata": {},
   "source": [
    "Частоты на частичных интервалах, расположенных непосредственно перед и после модального (*n_prev*, *n_next*)"
   ]
  },
  {
   "cell_type": "code",
   "execution_count": 35,
   "id": "c58b7331-aaaf-4309-b559-c9bbd40aae93",
   "metadata": {},
   "outputs": [],
   "source": [
    "modal_class_index = gfd.index((modal_class, n_modal_class))\n",
    "_ , n_prev = gfd[modal_class_index - 1]\n",
    "_ , n_next = gfd[modal_class_index + 1]"
   ]
  },
  {
   "cell_type": "markdown",
   "id": "50e1f146-828d-4b65-9266-6bf33125c2b2",
   "metadata": {},
   "source": [
    "Вычислим выборочную моду (*mode*), воспользовавшись формулой\n",
    "\n",
    "$$\n",
    "\\widehat{Mo} = x_m + \\frac{n_m - n_{m-1}}{(n_m - n_{m-1}) + (n_m - n_{m+1})} \\cdot h\n",
    "$$\n",
    "\n",
    "где:\n",
    "\n",
    "- $x_m$ - начало модального интервала выборки\n",
    "- $n_m$ - частота на соответствующем модальном интервале\n",
    "- $n_{m-1}$ - частота на частичном интервале, расположенном непосредственно перед модальным\n",
    "- $n_{m+1}$ - частота на частичном интервале, расположенном непосредственно после модального\n",
    "- $h$ - размер модального интервала\n"
   ]
  },
  {
   "cell_type": "code",
   "execution_count": 36,
   "id": "f53d4202-e86c-40b5-97e5-4ad8b82c389c",
   "metadata": {},
   "outputs": [],
   "source": [
    "mode = modal_class[0] + ( (n_modal_class - n_prev) / ( (n_modal_class - n_prev) + (n_modal_class - n_next) ) ) * h"
   ]
  },
  {
   "cell_type": "markdown",
   "id": "e28ee170-567b-4b77-8b0c-526c57cbc3da",
   "metadata": {},
   "source": [
    "Значение выборочной моды для рассматриваемой выборки"
   ]
  },
  {
   "cell_type": "code",
   "execution_count": 37,
   "id": "4074df49-c16d-4c2c-8f69-3a225a528375",
   "metadata": {},
   "outputs": [
    {
     "name": "stdout",
     "output_type": "stream",
     "text": [
      "103.37740046838408\n"
     ]
    }
   ],
   "source": [
    "print(mode)"
   ]
  },
  {
   "cell_type": "markdown",
   "id": "c90ce1b4-1489-4b43-a681-4a362dc22ede",
   "metadata": {},
   "source": [
    "## Вычисление выборочной медианы\n",
    "\n",
    "Для вычисления выборочной медианы найдем медианный интервал (*median_class*) среди всех частичных интервалов и частоту (*median_class_freq*) на этом интервале"
   ]
  },
  {
   "cell_type": "code",
   "execution_count": 38,
   "id": "a630ff0c-f0dc-4f76-86f9-f31590fa6659",
   "metadata": {},
   "outputs": [],
   "source": [
    "median_class, median_class_acc_freq = next((interval, acc_frequency) for (interval, acc_frequency) in acc_frequencies.items() if acc_frequency >= n / 2)\n",
    "median_class_freq = frequencies[median_class]"
   ]
  },
  {
   "cell_type": "markdown",
   "id": "8a48b625-014e-4704-9603-9f0c052b65f3",
   "metadata": {},
   "source": [
    "Накопительные частоту на частичном интервале, расположенном непосредственно перед медианным (*acc_frec_prev*)"
   ]
  },
  {
   "cell_type": "code",
   "execution_count": 39,
   "id": "36cc9101-3144-4613-a7dc-825842584b43",
   "metadata": {},
   "outputs": [],
   "source": [
    "acc_frequencies_list = list(acc_frequencies.items())\n",
    "median_class_index = acc_frequencies_list.index((median_class, median_class_acc_freq))\n",
    "_ , acc_frec_prev = acc_frequencies_list[median_class_index - 1]"
   ]
  },
  {
   "cell_type": "markdown",
   "id": "b6ca7fdc-71b7-4bda-a3ee-80472b729558",
   "metadata": {},
   "source": [
    "Вычислим выборочную медиану (*median*), воспользовавшись формулой\n",
    "\n",
    "$$\n",
    "\\widehat{Me} = x_{Me} + \\frac{\\frac{n}{2} - n_{Me-1}}{n_{Me}} \\cdot h\n",
    "$$\n",
    "\n",
    "где:\n",
    "\n",
    "- $x_{Me}$ - начало медианного интервала\n",
    "- $n$ -объем выборки\n",
    "- $n_{Me-1}$ - накопительная частота частичного интервала, расположенного непосредственно перед медианным\n",
    "- $n_{Me}$ - частота медианного интервала\n",
    "- $h$ - размер медианного интервала\n"
   ]
  },
  {
   "cell_type": "code",
   "execution_count": 40,
   "id": "c2562db5-bf02-43e1-a851-322a0f6fb544",
   "metadata": {},
   "outputs": [],
   "source": [
    "median = median_class[0] + ( (n/2 - acc_frec_prev) / median_class_freq ) * h"
   ]
  },
  {
   "cell_type": "markdown",
   "id": "c6723ddd-aeb3-45c1-b0fa-9b48ae8f3195",
   "metadata": {},
   "source": [
    "Значение выборочной медианы для рассматриваемой выборки"
   ]
  },
  {
   "cell_type": "code",
   "execution_count": 41,
   "id": "bd9f316b-d405-4175-8f4c-3d0d98b42907",
   "metadata": {},
   "outputs": [
    {
     "name": "stdout",
     "output_type": "stream",
     "text": [
      "101.93444444444445\n"
     ]
    }
   ],
   "source": [
    "print(median)"
   ]
  },
  {
   "cell_type": "markdown",
   "id": "55039499-9a19-4afe-9ec5-6b3e001678bd",
   "metadata": {},
   "source": [
    "## Вычисление коэффициента вариации\n",
    "\n",
    "Выборочный коэффициент вариации (*coefficient_of_variation*) вычисляется по формуле\n",
    "\n",
    "$$\n",
    "\\hat{V} = \\frac{\\hat{\\delta}}{\\hat{X}}\n",
    "$$"
   ]
  },
  {
   "cell_type": "code",
   "execution_count": 42,
   "id": "c76ffd5d-212f-4868-8eda-e35cef48e5f0",
   "metadata": {},
   "outputs": [],
   "source": [
    "coefficient_of_variation = standard_deviation / mean"
   ]
  },
  {
   "cell_type": "markdown",
   "id": "42588abf-b17f-4d5d-987e-0edb3428f98a",
   "metadata": {},
   "source": [
    "Значение коэффициента вариации для рассматриваемой выборки (в процентах)"
   ]
  },
  {
   "cell_type": "code",
   "execution_count": 43,
   "id": "ea19774c-17be-4bf4-af95-a9444f33be18",
   "metadata": {},
   "outputs": [
    {
     "name": "stdout",
     "output_type": "stream",
     "text": [
      "11.172628119069467%\n"
     ]
    }
   ],
   "source": [
    "print(f'{coefficient_of_variation * 100}%' )"
   ]
  },
  {
   "cell_type": "markdown",
   "id": "40098e06-60f1-4fbb-a3c1-13fb967485c4",
   "metadata": {},
   "source": [
    "## Резюме"
   ]
  },
  {
   "cell_type": "code",
   "execution_count": 44,
   "id": "2fbf7a04-a80d-48ef-b563-d9d0929e30f6",
   "metadata": {},
   "outputs": [
    {
     "name": "stdout",
     "output_type": "stream",
     "text": [
      "Выборочное среднее (X̂): 99.7694\n",
      "Выборочная дисперсия (D̂): 124.2526\n",
      "Выборочное СКО (δ̂): 11.1469\n",
      "Коэффициент асимметрии (Â): -0.6228\n",
      "Коэффициент эксцесса (Ê): 0.4152\n",
      "Мода (M̂o): 103.3774\n",
      "Медиана (M̂e): 101.9344\n",
      "Коэффициент вариации (V̂): 0.1117 (11.17%)\n"
     ]
    }
   ],
   "source": [
    "print(f\"Выборочное среднее (X̂): {mean:.4f}\")\n",
    "print(f\"Выборочная дисперсия (D̂): {variance:.4f}\")\n",
    "print(f\"Выборочное СКО (δ̂): {standard_deviation:.4f}\")\n",
    "print(f\"Коэффициент асимметрии (Â): {skewness:.4f}\")\n",
    "print(f\"Коэффициент эксцесса (Ê): {kurtosis:.4f}\")\n",
    "print(f\"Мода (M̂o): {mode:.4f}\")\n",
    "print(f\"Медиана (M̂e): {median:.4f}\")\n",
    "print(f\"Коэффициент вариации (V̂): {coefficient_of_variation:.4f} ({coefficient_of_variation*100:.2f}%)\")"
   ]
  },
  {
   "cell_type": "markdown",
   "id": "49009105-031f-44f6-b212-c4c7b041e6ab",
   "metadata": {},
   "source": [
    "# 5\n",
    "\n",
    "Исходя из полученных в ходе работы числовых характеристик выборки, охарактеризовать распределение исследуемого признака. Ответить на вопрос: каков смысл полученных характеристик?\n",
    "\n",
    "## Выборочное среднее ($\\hat{X} \\approx 99.77$)\n",
    "\n",
    "**Смысл:** Среднее арифметическое всех значений выборки. Центр распределения, вокруг которого группируются данные.\n",
    "\n",
    "## Выборочная дисперсия и выборочное среднее квадратическое отклонение\n",
    "\n",
    "**Смысл:**\n",
    "- Дисперсия - средний квадрат отклонений значений от среднего\n",
    "- СКО - средний разброс данных вокруг среднего (в единицах измерения)\n",
    "\n",
    "**Интерпретация:** Значения признака в среднем отклоняются от среднего на ±11.15 единицы. Разброс характеризуется как умеренный.\n",
    "\n",
    "## Коэффициент вариации ($\\hat{V} \\approx 11.17\\%$)\n",
    "\n",
    "**Смысл:** Относительная мера разброса, показывающая долю среднего разброса от среднего значения.\n",
    "\n",
    "**Интерпретация:** Коэффициент менее 15-20% показывает однородность выборки и надежность среднего значения.\n",
    "\n",
    "## Коэффициент асимметрии ($\\hat{A} \\approx -0.62$)\n",
    "\n",
    "**Смысл:** Характеризует степень скошенности распределения:\n",
    "- $\\hat{A} = 0$: симметричное распределение\n",
    "- $\\hat{A} > 0$: правая скошенность\n",
    "- $\\hat{A} < 0$: левая скошенность\n",
    "\n",
    "**Интерпретация:** Отрицательное значение указывает на левую скошенность - наличие группы объектов с аномально низкими значениями признака.\n",
    "\n",
    "## Коэффициент эксцесса ($\\hat{E} \\approx 0.42$)\n",
    "\n",
    "**Смысл:** Характеризует островершинность распределения:\n",
    "- $\\hat{E} = 0$: как у нормального распределения\n",
    "- $\\hat{E} > 0$: более островершинное\n",
    "- $\\hat{E} < 0$: более плосковершинное\n",
    "\n",
    "**Интерпретация:** Положительное значение означает, что распределение более острое в сравнении с нормальным, данные более сконцентрированы вокруг среднего значения.\n",
    "\n",
    "## Мода и Медиана ($\\widehat{Mo} \\approx 103.38$, $\\widehat{Me} \\approx 101.93$)\n",
    "\n",
    "**Смысл:**\n",
    "- Мода - наиболее часто встречающееся значение\n",
    "- Медиана - значение, делящее выборку пополам (слева - меньше медианного значения, справа - больше)\n",
    "\n",
    "**Интерпретация:** Близость значений моды и медианы свидетельствует о симметричности распределения.\n",
    "\n",
    "## Общий вывод\n",
    "\n",
    "Распределение признака характеризуется как:\n",
    "- С выраженной левой асимметрией\n",
    "- Более острое в сравнении с нормальным распределением\n",
    "- С умеренным разбросом данных\n",
    "\n",
    "## В контексте темпов роста\n",
    "\n",
    "Средний темп роста (≈99.77%) указывает на незначительное снижение объемов реализации в среднем по предприятиям. Левая асимметрия подразумевает, что большинство предприятий демонстрируют стабильность или умеренный рост (мода ≈103.38%, медиана ≈101.93%), но есть значительная группа предприятий с резким спадом. Положительный эксцесс подтверждает концентрацию темпов вокруг 100-103%, что говорит о предсказуемости для большинства компаний, но требует внимания к \"хвостам\". Коэффициент вариации (11.17%) подтверждает относительную однородность темпов производства в отразии."
   ]
  }
 ],
 "metadata": {
  "kernelspec": {
   "display_name": "Python 3 (ipykernel)",
   "language": "python",
   "name": "python3"
  },
  "language_info": {
   "codemirror_mode": {
    "name": "ipython",
    "version": 3
   },
   "file_extension": ".py",
   "mimetype": "text/x-python",
   "name": "python",
   "nbconvert_exporter": "python",
   "pygments_lexer": "ipython3",
   "version": "3.13.3"
  }
 },
 "nbformat": 4,
 "nbformat_minor": 5
}
