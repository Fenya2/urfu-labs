{
 "cells": [
  {
   "cell_type": "markdown",
   "id": "784f30e3-dc63-4025-b080-8ac1e8630d19",
   "metadata": {},
   "source": [
    "Вспомогательные функции, библиотеки"
   ]
  },
  {
   "cell_type": "code",
   "execution_count": 34,
   "id": "0e015efc-cb22-4446-b763-1b4415285151",
   "metadata": {
    "editable": true,
    "slideshow": {
     "slide_type": ""
    },
    "tags": []
   },
   "outputs": [],
   "source": [
    "import matplotlib.pyplot as plt\n",
    "import numpy as np\n",
    "from scipy.special import gamma"
   ]
  },
  {
   "cell_type": "markdown",
   "id": "c5c5cced-9407-4c48-8a6e-93ec3fbdd0a5",
   "metadata": {
    "editable": true,
    "slideshow": {
     "slide_type": ""
    },
    "tags": []
   },
   "source": [
    "# Лабораторная работа 2\n",
    "*Сыромятников Дмитрий (КН-401)*\n",
    "\n",
    "Вариант $13$"
   ]
  },
  {
   "cell_type": "markdown",
   "id": "f5466fdf-75d2-47e8-8b90-046611934802",
   "metadata": {},
   "source": [
    "# Задача 1\n",
    "Методом моментов по выборке объема $n=100$ определите неизвестный параметр $\\lambda$ экспоненциального (показательного) распределения\n",
    "\n",
    "|  Xi  | ni |\n",
    "|------|----|\n",
    "| 57   | 65 |\n",
    "| 168  | 24 |\n",
    "| 278  | 5  |\n",
    "| 389  | 4  |\n",
    "| 500  | 1  |\n",
    "| 611  | 1  |\n",
    "\n",
    "Так как требуется определить один параметр $\\lambda$, то достаточно одного соотношения, связывающего теоретический и эмпирический момент"
   ]
  },
  {
   "cell_type": "markdown",
   "id": "7027f030-b276-4752-b445-68b4b906b6e1",
   "metadata": {
    "editable": true,
    "slideshow": {
     "slide_type": ""
    },
    "tags": []
   },
   "source": [
    "## Расчет первого начального выборочного момента $\\hat{\\nu}_1$"
   ]
  },
  {
   "cell_type": "markdown",
   "id": "53c077c7-6e40-4d74-b2d1-fc26a7b7f16a",
   "metadata": {},
   "source": [
    "В условии уже дан дискретный вариационный ряд выборки *dfd*"
   ]
  },
  {
   "cell_type": "code",
   "execution_count": 35,
   "id": "c4248c74-2590-45b6-857b-44c4b8e7eb63",
   "metadata": {},
   "outputs": [],
   "source": [
    "dfd = [\n",
    "    (57, 65),\n",
    "    (168, 24),\n",
    "    (278, 5),\n",
    "    (389, 4),\n",
    "    (500, 1),\n",
    "    (611, 1)\n",
    "]"
   ]
  },
  {
   "cell_type": "markdown",
   "id": "c67055c9-a5e4-48a7-a370-4a3da86279ef",
   "metadata": {
    "editable": true,
    "id": "v1_formula",
    "slideshow": {
     "slide_type": ""
    },
    "tags": []
   },
   "source": [
    "Первый начальный выборочный момент $\\hat{\\nu}_1$ (*[sm_1](https://en.wikipedia.org/wiki/Method_of_moments_(statistics))*) равен\n",
    "\n",
    "$$\n",
    "\\nu_1 = \\sum_i x_i^1 \\cdot \\hat{p}_i = \\frac{1}{n} \\sum_i x_i^1 \\cdot n_i\n",
    "$$\n",
    "\n",
    "Вычислим его.\n",
    "Объем выборки $n$"
   ]
  },
  {
   "cell_type": "code",
   "execution_count": 36,
   "id": "a0a15b19-81bd-4b75-95e4-9ff9c50afe09",
   "metadata": {},
   "outputs": [],
   "source": [
    "n = sum(frequency for _, frequency in dfd)"
   ]
  },
  {
   "cell_type": "markdown",
   "id": "955fa2f7-0e4d-4279-8995-4a5b5d43b3d0",
   "metadata": {},
   "source": [
    "Соответввенно *sm_1*"
   ]
  },
  {
   "cell_type": "code",
   "execution_count": 37,
   "id": "f7a142bc-f466-4209-a62a-eb166f908aa2",
   "metadata": {},
   "outputs": [],
   "source": [
    "sm_1 = (1 / n) * sum(x_i * n_i for x_i, n_i in dfd)"
   ]
  },
  {
   "cell_type": "markdown",
   "id": "15901ff0-0b03-482b-b5bd-66e7b654fb45",
   "metadata": {
    "editable": true,
    "slideshow": {
     "slide_type": ""
    },
    "tags": []
   },
   "source": [
    "## Выражение первого начального теоретического момента $\\nu_1$\n",
    "\n",
    "Первый начальный теоретический момент (математическое ожидание) $\\nu_1$ известен и равен\n",
    "\n",
    "$$\n",
    "\\nu_1 = \\frac{1}{\\lambda}\n",
    "$$"
   ]
  },
  {
   "cell_type": "markdown",
   "id": "52c6fde5-8a01-4bfe-b8fd-acc491182659",
   "metadata": {},
   "source": [
    "## Метод моментов\n",
    "\n",
    "Для вычисления параметра $\\lambda$ воспользуемся методом моментов, приравняв найденные начальные теоретический и эмпирический (выборочный) первые выборочные моменты и решив получившееся уравнение относительно $\\lambda$:\n",
    "\n",
    "$\\mu_1 = \\hat{\\nu}_1$\n",
    "\n",
    "$\\frac{1}{\\lambda} = \\hat{\\nu}_1$\n",
    "\n",
    "$$\n",
    "\\lambda = \\frac{1}{\\hat{\\nu}_1}\n",
    "$$\n",
    "\n",
    "Полученное значение $\\lambda$ (*l*):"
   ]
  },
  {
   "cell_type": "code",
   "execution_count": 38,
   "id": "9d8c2820-99b9-4027-a1bc-dacb8801cee4",
   "metadata": {},
   "outputs": [],
   "source": [
    "l = 1 / sm_1"
   ]
  },
  {
   "cell_type": "code",
   "execution_count": 39,
   "id": "69e607d7-2de6-4e91-b9bf-fa3218825265",
   "metadata": {},
   "outputs": [
    {
     "name": "stdout",
     "output_type": "stream",
     "text": [
      "0.008478887569950822\n"
     ]
    }
   ],
   "source": [
    "print(l)"
   ]
  },
  {
   "cell_type": "markdown",
   "id": "bdaf0aca-dcf5-4ba3-914e-94e822a811f5",
   "metadata": {},
   "source": [
    "## Построение графиков\n",
    "\n",
    "Для каждого варианта дискретного вариационного ряда найдем шаг (*H*) интервала по формулам:\n",
    "\n",
    "$$\n",
    "h_i =\n",
    "\\begin{cases}\n",
    "h_{i+1} & i = 1 \\\\\n",
    "x_{i-1} - x_i & i > 1 \n",
    "\\end{cases}\n",
    "$$"
   ]
  },
  {
   "cell_type": "code",
   "execution_count": 40,
   "id": "a4fe097a-a688-4bb8-82a2-63be0d9a92de",
   "metadata": {},
   "outputs": [],
   "source": [
    "H = [0] * len(dfd)\n",
    "for i in range(1, len(dfd)):\n",
    "    H[i] = dfd[i][0] - dfd[i-1][0]\n",
    "H[0] = H[1]"
   ]
  },
  {
   "cell_type": "markdown",
   "id": "ae08b560-8cf9-438a-b34e-1367ce3f578e",
   "metadata": {},
   "source": [
    "Построим дискретный вариационный ряд с частостями (*rel_dfd*) на основе дискретного ряда с частотами (*dfd*)"
   ]
  },
  {
   "cell_type": "code",
   "execution_count": 41,
   "id": "8371b84f-75ac-4096-a83b-53fa1d5fdf81",
   "metadata": {},
   "outputs": [],
   "source": [
    "rel_dfd = [(x_i, n_i / n) for x_i, n_i in dfd]"
   ]
  },
  {
   "cell_type": "markdown",
   "id": "3d433f8c-6469-4404-8738-d61f5812532d",
   "metadata": {},
   "source": [
    "Вычислим данные для построения аналога плотности вероятности (*pdf*), поделив элементы ряда rel_dfd (частости) на соответствующие шаги *H*"
   ]
  },
  {
   "cell_type": "code",
   "execution_count": 42,
   "id": "ff15c7c8-480a-4bcb-8838-a5f87cd983e9",
   "metadata": {},
   "outputs": [],
   "source": [
    "pdf = [(rel_dfd[0], rel_dfd[1] / h_i) for rel_dfd, h_i in zip(rel_dfd, H)]\n",
    "\n",
    "variants = [variant for variant, _ in pdf]\n",
    "densitys = [density for _, density in pdf]"
   ]
  },
  {
   "cell_type": "markdown",
   "id": "8f01c39a-fb85-4d7e-86b5-f874e486ca24",
   "metadata": {},
   "source": [
    "Вычислим данные для построения графика теоретической плотности вероятности с найденным параметром $\\lambda$ (в 500 точках на всем диапозоне выборки). Формула плотности\n",
    "\n",
    "$$\n",
    "f(x;\\lambda) = \n",
    "\\begin{cases}\n",
    "\\lambda e^{-\\lambda x}, & x \\geq 0 \\\\\n",
    "0, & x < 0\n",
    "\\end{cases}\n",
    "$$"
   ]
  },
  {
   "cell_type": "code",
   "execution_count": 43,
   "id": "b44c717f-0486-4c3a-87a1-f60eef07ea83",
   "metadata": {},
   "outputs": [],
   "source": [
    "theoretical_x = np.linspace(dfd[0][0], max(variants), 500)\n",
    "theoretical_y = l * np.exp(-l * theoretical_x)\n",
    "theoretical_vals = [l * np.exp(-l * x) for x in variants]"
   ]
  },
  {
   "cell_type": "markdown",
   "id": "57b691f8-10ec-4ff4-905e-0b6683c48c98",
   "metadata": {},
   "source": [
    "Построим графики плотности вероятности (теоретический и практической) по найденным данным"
   ]
  },
  {
   "cell_type": "code",
   "execution_count": 44,
   "id": "52fd3875-3074-40a6-8526-8553a3c0813c",
   "metadata": {
    "editable": true,
    "scrolled": true,
    "slideshow": {
     "slide_type": ""
    },
    "tags": []
   },
   "outputs": [
    {
     "data": {
      "image/png": "[encoded data removed]",
      "text/plain": [
       "<Figure size 640x480 with 1 Axes>"
      ]
     },
     "metadata": {},
     "output_type": "display_data"
    }
   ],
   "source": [
    "plt.plot(variants, densitys, \"ro-\", lw=2, label=\"Эмпирическая плотность\")\n",
    "plt.plot(theoretical_x, theoretical_y, \"b-\", lw=2, label=\"Теоретическая плотность\")\n",
    "plt.plot(variants, theoretical_vals, \"bs\", ms=8)\n",
    "\n",
    "plt.xlabel(\"x\")\n",
    "plt.ylabel(\"Плотность / относительная частота\")\n",
    "plt.title(\"Эмпирическая и теоретическая плотность экспоненциального распределения\")\n",
    "plt.legend()\n",
    "plt.grid(True)\n",
    "plt.show()"
   ]
  },
  {
   "cell_type": "markdown",
   "id": "f6ee03e3-e113-45df-a993-9c7d76e24fe4",
   "metadata": {},
   "source": [
    "# Задача 2\n",
    "\n",
    "Методом моментов по выборке объема $n=100$ определите параметры $a$ и $b$ равномерного распределения\n",
    "\n",
    "\n",
    "| x    | y   |\n",
    "| ---- | --- |\n",
    "| 5,8  | 17  |\n",
    "| 7,5  | 17  |\n",
    "| 9,2  | 18  |\n",
    "| 10,8 | 13  |\n",
    "| 12,5 | 16  |\n",
    "| 14,2 | 19  |\n",
    "\n",
    "Так как требуется определить 2 параметра, то достаточно 2 соотношений моментов, связывающих теоретические и эмпирические моменты"
   ]
  },
  {
   "cell_type": "markdown",
   "id": "889e7122-d7b7-4bb5-991c-d59779a55853",
   "metadata": {},
   "source": [
    "## Расчет первого начального выборочного момента $\\hat{\\nu}_1$"
   ]
  },
  {
   "cell_type": "markdown",
   "id": "a7a6607d-fe28-4cb6-86a7-91238881b96f",
   "metadata": {},
   "source": [
    "В условии уже дан дискретный вариационный ряд выборки *dfd* c объемом выборки *n*"
   ]
  },
  {
   "cell_type": "code",
   "execution_count": 45,
   "id": "de68a06f-e6d0-4f04-a0e6-af5575d86592",
   "metadata": {},
   "outputs": [],
   "source": [
    "dfd = [\n",
    "    (5.8, 17),\n",
    "    (7.5, 17),\n",
    "    (9.2, 18),\n",
    "    (10.8, 13),\n",
    "    (12.5, 16),\n",
    "    (14.2, 19)\n",
    "]"
   ]
  },
  {
   "cell_type": "code",
   "execution_count": 46,
   "id": "0241cf4d-e7c2-41c1-a29c-ae3a62880d8e",
   "metadata": {},
   "outputs": [],
   "source": [
    "n = sum(frequency for _, frequency in dfd)"
   ]
  },
  {
   "cell_type": "markdown",
   "id": "4080e394-d042-43f5-aed1-58ef941fdd70",
   "metadata": {},
   "source": [
    "Формула для $\\hat{\\nu_1}$ (*sm_1*) выписана выше\n"
   ]
  },
  {
   "cell_type": "code",
   "execution_count": 47,
   "id": "f33f5f7a-d8f4-487b-b373-8a4f83cf97dc",
   "metadata": {},
   "outputs": [],
   "source": [
    "sm_1 = (1 / n) * sum(x_i * n_i for x_i, n_i in dfd)"
   ]
  },
  {
   "cell_type": "markdown",
   "id": "02cdf6d8-6346-4954-a420-1c16f074f1c8",
   "metadata": {},
   "source": [
    "## Расчет второго начального выборочного момента $\\hat{\\nu}_2$"
   ]
  },
  {
   "cell_type": "markdown",
   "id": "259e2bca-9c0d-43f6-825c-a684ae1fed7a",
   "metadata": {
    "editable": true,
    "id": "v1_formula",
    "slideshow": {
     "slide_type": ""
    },
    "tags": []
   },
   "source": [
    "Второй начальный выборочный момент $\\hat{\\nu}_2$ (*[sm_2](https://en.wikipedia.org/wiki/Method_of_moments_(statistics))*) равен\n",
    "\n",
    "$$\n",
    "\\nu_2 = \\sum_i x_i^2 \\cdot \\hat{p}_i = \\frac{1}{n} \\sum_i x_i^2 \\cdot n_i\n",
    "$$\n",
    "\n",
    "Вычислим его."
   ]
  },
  {
   "cell_type": "code",
   "execution_count": 48,
   "id": "b033929a-26a1-4997-90e3-9d8400644641",
   "metadata": {},
   "outputs": [],
   "source": [
    "sm_2 = (1 / n) * sum(x_i**2 * n_i for x_i, n_i in dfd)"
   ]
  },
  {
   "cell_type": "markdown",
   "id": "b4961d19-5168-4097-8c74-ea7e79df766a",
   "metadata": {},
   "source": [
    "## Выражение первого начального теоретического момента $\\nu_1$\n",
    "\n",
    "Для равномерного распределения первый начальный теоретический момент $\\nu_1$ известен и равен\n",
    "\n",
    "$$\n",
    "\\nu_1 = \\frac{a + b}{2}\n",
    "$$"
   ]
  },
  {
   "cell_type": "markdown",
   "id": "7ef17f26-869c-49be-b211-2d2c35da9a6e",
   "metadata": {},
   "source": [
    "## Выражение второго начального теоретического момента $\\nu_2$\n",
    "\n",
    "Для равномерного распределения второй начальный теоретический момент $\\nu_2$ [известен](https://en.wikipedia.org/w/index.php?title=Continuous_uniform_distribution&spm=a2ty_o01.29997173.0.0.740dc921LvKptH#Moments) и равен\n",
    "\n",
    "$$\n",
    "\\nu_2 = \\frac{b^3 - a^3}{3(b-a)}\n",
    "$$"
   ]
  },
  {
   "cell_type": "markdown",
   "id": "61f72b61-c2bc-4fe6-827f-4f1bc63236f0",
   "metadata": {},
   "source": [
    "## Метод моментов\n",
    "\n",
    "Для вычисления параметров $a$ и $b$ воспользуемся методом моментов, приравняв найденные начальные теоретические и эмпирическии (выборочные)  и решив получившуюся систему уравнений относительно параметров:\n",
    "\n",
    "$$\n",
    "\\begin{cases}\n",
    "v_1 = \\hat{v}_1 \\\\\n",
    "v_2 = \\hat{v}_2\n",
    "\\end{cases}\n",
    "$$\n",
    "\n",
    "$$\n",
    "\\begin{cases}\n",
    "\\frac{a + b}{2} = \\hat{v}_1 \\\\\n",
    "\\frac{b^3 - a^3}{3(b-a)} = \\hat{v}_2\n",
    "\\end{cases}\n",
    "$$\n",
    "\n",
    "Решив полученную систему, получим значения параметров:\n",
    "\n",
    "$a = \\hat{v}_1 - \\sqrt{3(\\hat{v}_2 - \\hat{v}_1^2)}$\n",
    "\n",
    "$b = \\hat{v}_1 + \\sqrt{3(\\hat{v}_2 - \\hat{v}_1^2)}$"
   ]
  },
  {
   "cell_type": "code",
   "execution_count": 49,
   "id": "4ed140f4-0705-4149-a655-1e5fd2c3cd51",
   "metadata": {},
   "outputs": [],
   "source": [
    "a = sm_1 - (3 * (sm_2 - sm_1**2))**0.5\n",
    "b = sm_1 + (3 * (sm_2 - sm_1**2))**0.5"
   ]
  },
  {
   "cell_type": "code",
   "execution_count": 50,
   "id": "081b0645-a592-486b-8f68-cd0934afa895",
   "metadata": {},
   "outputs": [
    {
     "name": "stdout",
     "output_type": "stream",
     "text": [
      "4.936400566639157\n",
      "15.101599433360843\n"
     ]
    }
   ],
   "source": [
    "print(a)\n",
    "print(b)"
   ]
  },
  {
   "cell_type": "markdown",
   "id": "a24c9523-bbec-4108-b27e-dd76b411b3d5",
   "metadata": {},
   "source": [
    "## Построение графиков\n",
    "\n",
    "По аналогии с задачей 1\n",
    "\n",
    "Рассчитаем шаги *H* для каждого варианта выборки"
   ]
  },
  {
   "cell_type": "code",
   "execution_count": 51,
   "id": "3c823127-6df9-4961-bfca-03307b98ca5c",
   "metadata": {},
   "outputs": [],
   "source": [
    "H = [0] * len(dfd)\n",
    "for i in range(1, len(dfd)):\n",
    "    H[i] = dfd[i][0] - dfd[i-1][0]\n",
    "H[0] = H[1]"
   ]
  },
  {
   "cell_type": "markdown",
   "id": "ed3f9d3e-3dba-4fdf-aa5c-77a80020b50b",
   "metadata": {},
   "source": [
    "Рассчитаем относительные частоты (частости)"
   ]
  },
  {
   "cell_type": "code",
   "execution_count": 52,
   "id": "255e5df8-689a-42ec-b893-a65d23fcafc1",
   "metadata": {},
   "outputs": [],
   "source": [
    "rel_dfd = [(x_i, n_i / n) for x_i, n_i in dfd]"
   ]
  },
  {
   "cell_type": "markdown",
   "id": "e10b976b-39bc-42fc-a179-c11e1e2f608d",
   "metadata": {},
   "source": [
    "Рассчитаем данные для эмпирической плотности вероятности"
   ]
  },
  {
   "cell_type": "code",
   "execution_count": 53,
   "id": "f08f1651-dc91-4215-88af-42283a26850d",
   "metadata": {},
   "outputs": [],
   "source": [
    "pdf = [(x_i, rel_freq / h_i) for (x_i, rel_freq), h_i in zip(rel_dfd, H)]"
   ]
  },
  {
   "cell_type": "markdown",
   "id": "956d926d-60ef-4359-bec8-7ef1c242ebff",
   "metadata": {},
   "source": [
    "Вычислим теоретическую плотность вероятности по формуле\n",
    "\n",
    "$$\n",
    "f(x;a,b) = \n",
    "\\begin{cases}\n",
    "\\frac{1}{b - a}, & x \\in [a,b] \\\\\n",
    "0, & x \\notin [a,b]\n",
    "\\end{cases}\n",
    "$$"
   ]
  },
  {
   "cell_type": "code",
   "execution_count": 54,
   "id": "61697aa9-a30b-4972-b6f0-a4d893ceb9c9",
   "metadata": {},
   "outputs": [],
   "source": [
    "theoretical_density = 1 / (b - a)"
   ]
  },
  {
   "cell_type": "markdown",
   "id": "3c31dd1b-3a3e-4777-82a7-f27d270da2a6",
   "metadata": {},
   "source": [
    "Построим графики плотностей (теоретической и эмпирической) по найденным данным"
   ]
  },
  {
   "cell_type": "code",
   "execution_count": 55,
   "id": "d4bd52eb-59c9-4b98-b145-b6cde7cbcf1e",
   "metadata": {},
   "outputs": [
    {
     "data": {
      "image/png": "[encoded data removed]",
      "text/plain": [
       "<Figure size 1000x600 with 1 Axes>"
      ]
     },
     "metadata": {},
     "output_type": "display_data"
    }
   ],
   "source": [
    "empirical_x = [x for x, _ in pdf]\n",
    "empirical_y = [density for _, density in pdf]\n",
    "\n",
    "theoretical_x = np.linspace(min(x_i for x_i, _ in dfd), max(x_i for x_i, _ in dfd), 500)\n",
    "theoretical_y = np.full_like(theoretical_x, theoretical_density)\n",
    "\n",
    "plt.figure(figsize=(10, 6))\n",
    "plt.plot(empirical_x, empirical_y, \"ro-\", lw=2, label=\"Эмпирическая плотность\", markersize=8)\n",
    "plt.plot(theoretical_x, theoretical_y, \"b-\", lw=2, label=f\"Теоретическая плотность\")\n",
    "\n",
    "theoretical_vals_at_points = [theoretical_density] * len(empirical_x)\n",
    "plt.plot(empirical_x, theoretical_vals_at_points, \"bs\", ms=8)\n",
    "\n",
    "plt.xlabel(\"x\")\n",
    "plt.ylabel(\"Плотность вероятности\")\n",
    "plt.title(\"Эмпирическая и теоретическая плотность равномерного распределения\")\n",
    "plt.legend()\n",
    "plt.grid(True)\n",
    "plt.show()"
   ]
  },
  {
   "cell_type": "markdown",
   "id": "55749c66-3fb4-48d9-9d18-e82ece78a158",
   "metadata": {},
   "source": [
    "# Задача 3\n",
    "\n",
    "Методом максимального правдоподобия по выборке объема $n$ определите параметр $\\beta$ гамма-распределения. Параметр $\\alpha=2,31$\n",
    "\n",
    "| x   | n   |\n",
    "|-----|-----|\n",
    "| 14  | 32  |\n",
    "| 41  | 20  |\n",
    "| 64  | 20  |\n",
    "| 86  | 15  |\n",
    "| 108 | 8   |\n",
    "| 130 | 5   |\n",
    "\n",
    "В условии уже дан дискретный вариационный ряд выборки *dfd* c объемом выборки *n*"
   ]
  },
  {
   "cell_type": "code",
   "execution_count": 56,
   "id": "14dba7d7-6a37-494d-b001-bcaab12acf5d",
   "metadata": {},
   "outputs": [],
   "source": [
    "dfd = [\n",
    "    (14, 32),\n",
    "    (41, 20),\n",
    "    (64, 20),\n",
    "    (86, 15),\n",
    "    (108, 8),\n",
    "    (130, 5)\n",
    "]"
   ]
  },
  {
   "cell_type": "markdown",
   "id": "2987570c-41d6-42ed-8650-3ec9bcba559b",
   "metadata": {},
   "source": [
    "параметр $\\alpha$ (alpha)"
   ]
  },
  {
   "cell_type": "code",
   "execution_count": 57,
   "id": "a807f951-e254-4804-93e7-382dc97b4343",
   "metadata": {},
   "outputs": [],
   "source": [
    "alpha = 2.31"
   ]
  },
  {
   "cell_type": "markdown",
   "id": "e2f77e25-be6e-44b7-a523-3765f964ba7e",
   "metadata": {},
   "source": [
    "## Плотность вероятности гамма распределения\n",
    "\n",
    "Плотность вероятности гамма-распределения с параметрами $\\alpha, \\beta$ высчитывается по формуле\n",
    "\n",
    "$$\n",
    "f(x) = \\frac{\\beta^{\\alpha}}{\\Gamma(\\alpha)} x^{\\alpha-1} e^{-\\beta x}, \\quad x > 0\n",
    "$$\n",
    "\n",
    "где $\\Gamma$ - [Гама-функция](https://ru.wikipedia.org/wiki/%D0%93%D0%B0%D0%BC%D0%BC%D0%B0-%D1%84%D1%83%D0%BD%D0%BA%D1%86%D0%B8%D1%8F)\n",
    "\n",
    "Число элементов выборки $n=100$"
   ]
  },
  {
   "cell_type": "code",
   "execution_count": 58,
   "id": "de871395-b128-40cd-9dad-8b71de1f65a5",
   "metadata": {},
   "outputs": [],
   "source": [
    "n = sum(frequency for _, frequency in dfd)"
   ]
  },
  {
   "cell_type": "markdown",
   "id": "4ebe8bca-71fe-4246-9862-41f1c804c217",
   "metadata": {},
   "source": [
    "Число вариантов выборки $k = 6$"
   ]
  },
  {
   "cell_type": "markdown",
   "id": "dd756128-1899-421f-8965-0cdc51f4fd4e",
   "metadata": {},
   "source": [
    "## Фукция правдоподобия\n",
    "\n",
    "Составим функцию правдоподобия $L$ по выборке и распределению. От одной переменной, потому что прочие ее аргументы фиксированы\n",
    "\n",
    "$$\n",
    "L(\\beta) = \\prod_{i=1}^{k} [f(x_i)]^{n_i}\n",
    "$$\n"
   ]
  },
  {
   "cell_type": "markdown",
   "id": "53082eb5-947f-41f2-bc3e-eb1791dd5e01",
   "metadata": {},
   "source": [
    "### Логарифмирование функции правдоподобия\n",
    "\n",
    "Логарифмируем $L$ для простоты дальнейших вычислений. Воспользуемся свойствами логарифмов (вынесение степени, сумма логарифмов)\n",
    "\n",
    "$$\n",
    "\\ell(\\beta) = \\sum_{i=1}^{k} n_i \\ln f(x_i)\n",
    "$$"
   ]
  },
  {
   "cell_type": "markdown",
   "id": "aff2d18a-eda0-4db9-b430-77dc801c7b81",
   "metadata": {},
   "source": [
    "### Подставление заданной плотности вероятности\n",
    "\n",
    "Подставив в $\\ell$ функцию плотности гамма распределения $f$, воспользуемся свойствами логарифма выше + логарифм частного + логарифм аргумента, равного основанию\n",
    "\n",
    "$$\n",
    "\\ell(\\beta) = \\sum_{i=1}^{6} n_i \\left[ \\alpha \\ln \\beta - \\ln \\Gamma(\\alpha) + (\\alpha - 1) \\ln x_i - \\beta x_i \\right]\n",
    "$$"
   ]
  },
  {
   "cell_type": "markdown",
   "id": "05f1fdde-3b28-4caf-9d26-39a556472287",
   "metadata": {},
   "source": [
    "### Разбитие $\\ell$ на суммы\n",
    "\n",
    "Раскроем сумму, используя свойства сумм (вынесение константы, сумма сумм)\n",
    "\n",
    "$$\n",
    "\\ell(\\beta) = \\alpha \\ln \\beta \\cdot \\sum_{i=1}^{6} n_i - \\ln \\Gamma(\\alpha)  \\sum_{i=1}^{6} n_i + (\\alpha - 1) \\sum_{i=1}^{6} n_i \\ln x_i - \\beta \\sum_{i=1}^{6} n_i x_i\n",
    "$$\n",
    "\n",
    "Упростим (сумма частот дает объем выборки)\n",
    "\n",
    "$$\n",
    "\\ell(\\beta) = \\alpha n \\ln \\beta - n \\ln \\Gamma(\\alpha) + (\\alpha - 1) \\sum_{i=1}^{6} n_i \\ln x_i - \\beta \\sum_{i=1}^{6} n_i x_i\n",
    "$$\n"
   ]
  },
  {
   "cell_type": "markdown",
   "id": "e76f29b4-c994-450a-aa08-9089bd1fd0b7",
   "metadata": {},
   "source": [
    "## Поиск точки максимума функции правдоподобия\n",
    "\n",
    "Доказывали, что точки экстремума исходной функции правдоподобия $L$ и $\\ell$ совпадают. Найдем точки экстремума $ell$"
   ]
  },
  {
   "cell_type": "markdown",
   "id": "096709b4-1528-48ca-921e-8975942c32bc",
   "metadata": {},
   "source": [
    "### Дифференцирование $\\ell$ по $\\beta$\n",
    "\n",
    "Продифференцируем $\\ell(\\beta)$ по $\\beta$\n",
    "$$\n",
    "\\frac{d\\ell}{d\\beta} = \\frac{\\alpha n}{\\beta} - \\sum_{i=1}^{k} n_i x_i\n",
    "$$"
   ]
  },
  {
   "cell_type": "markdown",
   "id": "e0f0efe3-9b8b-454d-93d6-21dbdf3d62ce",
   "metadata": {},
   "source": [
    "### Приравнивание производной $\\ell$ к 0, поиск точек экстремума функции\n",
    "\n",
    "Приравняем $\\frac{d\\ell}{d\\beta}$ к 0, решим полученное уравнение относительно $\\beta$\n",
    "\n",
    "$$\n",
    "\\frac{\\alpha n}{\\beta} - \\sum_{i=1}^{k} n_i x_i = 0\n",
    "$$\n",
    "\n",
    "Отсюда получаем предполагаемую оценку методом максимального правдоподобия для $\\beta$\n",
    "\n",
    "$$\n",
    "\\hat{\\beta} = \\frac{\\alpha n}{\\sum_{i=1}^{k} n_i x_i}\n",
    "$$"
   ]
  },
  {
   "cell_type": "markdown",
   "id": "5a7c39cd-3cc8-46ff-81de-704fe77cb6ef",
   "metadata": {},
   "source": [
    "### Проверка, что найденная точка экстремума производной $\\ell$ - максимум\n",
    "\n",
    "Проверим, что найденная оценка - максимум $\\ell \\to L \\to$ является оценкой искомого параметра методом максимального приближения.\n",
    "\n",
    "Для этого вычислим знак 2 производной по $\\beta$ функции $\\ell$ в найденной точке экстремума $\\hat{\\beta}$\n",
    "\n",
    "$$\n",
    "\\frac{d^2 \\ell}{d \\beta^2} = \\frac{d}{d \\beta} \\left( \\frac{\\alpha n}{\\beta} - \\sum n_i x_i \\right) = -\\frac{\\alpha n}{\\beta^2}\n",
    "$$\n",
    "\n",
    "и увидим, что она явно отрицательна в точке $\\hat{\\beta}$ ($\\beta$ возводится в квадрат, $\\alpha$ положительная, перед дробью минус)"
   ]
  },
  {
   "cell_type": "markdown",
   "id": "5e10f3e8-9d13-4ea5-9433-62350f09db0c",
   "metadata": {},
   "source": [
    "## Упрощение выражения. Вывод формулы оценки\n",
    "\n",
    "Упростив полученную формулу для $\\hat{\\beta}$ (появилось выборочное среднее), получаем оценку, полученную методом:\n",
    "\n",
    "$$\n",
    "\\hat{\\beta} = \\frac{\\alpha}{\\bar{x}}\n",
    "$$"
   ]
  },
  {
   "cell_type": "markdown",
   "id": "43873c97-e715-4a2e-9d00-cff32315c022",
   "metadata": {},
   "source": [
    "## Построение графиков"
   ]
  },
  {
   "cell_type": "markdown",
   "id": "68c5f17a-29fc-4852-a66e-4425e394eb72",
   "metadata": {},
   "source": [
    "### Эмпирические данные\n",
    "\n",
    "По аналогии с задачей 1\n",
    "\n",
    "Рассчитаем шаги *H* для каждого варианта выборки"
   ]
  },
  {
   "cell_type": "code",
   "execution_count": 59,
   "id": "d5a12ff9-6de0-4327-8530-578ceb1dbb0c",
   "metadata": {},
   "outputs": [],
   "source": [
    "H = [0] * len(dfd)\n",
    "for i in range(1, len(dfd)):\n",
    "    H[i] = dfd[i][0] - dfd[i-1][0]\n",
    "H[0] = H[1]"
   ]
  },
  {
   "cell_type": "markdown",
   "id": "e808517e-2f3f-4f84-b107-0e97e9be52e5",
   "metadata": {},
   "source": [
    "Рассчитаем относительные частоты (частости)"
   ]
  },
  {
   "cell_type": "code",
   "execution_count": 60,
   "id": "b7298e2e-d5e8-4850-badc-7a0b04648b21",
   "metadata": {},
   "outputs": [],
   "source": [
    "rel_dfd = [(x_i, n_i / n) for x_i, n_i in dfd]"
   ]
  },
  {
   "cell_type": "markdown",
   "id": "778618a0-b9b8-4f3f-9769-8c6c702b5bc5",
   "metadata": {},
   "source": [
    "Рассчитаем данные для эмпирической плотности вероятности"
   ]
  },
  {
   "cell_type": "code",
   "execution_count": 61,
   "id": "6381aa1e-c317-43dc-b465-5b877a989d63",
   "metadata": {},
   "outputs": [],
   "source": [
    "pdf = [(x_i, rel_freq / h_i) for (x_i, rel_freq), h_i in zip(rel_dfd, H)]\n",
    "\n",
    "variants = [x for x, _ in pdf]\n",
    "densitys = [density for _, density in pdf]"
   ]
  },
  {
   "cell_type": "markdown",
   "id": "da7a0fe9-15f7-4bc7-812b-b9e1224d6f07",
   "metadata": {},
   "source": [
    "### Теоретические данные\n",
    "Вычислим выборочное среднее для вычисления оценки $\\hat{\\beta}$"
   ]
  },
  {
   "cell_type": "code",
   "execution_count": 62,
   "id": "4cad59af-c0d7-4f6e-a609-d226c313e053",
   "metadata": {},
   "outputs": [],
   "source": [
    "mean = (1 / n) * sum(x_i * n_i for x_i, n_i in dfd)"
   ]
  },
  {
   "cell_type": "markdown",
   "id": "2e36d017-ec52-4eb1-9149-af9cb96f845f",
   "metadata": {},
   "source": [
    "Вычислим $\\beta$ по найденной формуле"
   ]
  },
  {
   "cell_type": "code",
   "execution_count": 63,
   "id": "2bca11f6-89d0-4ad0-bbbf-ac12b1e61f3f",
   "metadata": {},
   "outputs": [],
   "source": [
    "beta = alpha / mean"
   ]
  },
  {
   "cell_type": "markdown",
   "id": "0fafcc89-6684-4b5e-9f14-91c9635bc565",
   "metadata": {},
   "source": [
    "Вычислим теоретическую плотность вероятности по формуле плотности гамма-распределения, записанной выше\n"
   ]
  },
  {
   "cell_type": "code",
   "execution_count": 64,
   "id": "7e4ce1eb-07ea-4c35-9ace-9829c2cdc478",
   "metadata": {},
   "outputs": [],
   "source": [
    "theoretical_x = np.linspace(min(variants), max(variants), 500)\n",
    "theoretical_y = [(beta**alpha / gamma(alpha)) * (x**(alpha-1)) * np.exp(-beta * x) for x in theoretical_x]\n",
    "theoretical_vals = [(beta**alpha / gamma(alpha)) * (x**(alpha-1)) * np.exp(-beta * x) for x in variants]"
   ]
  },
  {
   "cell_type": "code",
   "execution_count": 65,
   "id": "5b26980a-6f04-47e6-910f-dfe515f965e0",
   "metadata": {
    "editable": true,
    "slideshow": {
     "slide_type": ""
    },
    "tags": []
   },
   "outputs": [
    {
     "data": {
      "image/png": "[encoded data removed]",
      "text/plain": [
       "<Figure size 640x480 with 1 Axes>"
      ]
     },
     "metadata": {},
     "output_type": "display_data"
    }
   ],
   "source": [
    "plt.plot(variants, densitys, \"ro-\", lw=2, label=\"Эмпирическая плотность\")\n",
    "plt.plot(theoretical_x, theoretical_y, \"b-\", lw=2, label=\"Теоретическая плотность\")\n",
    "plt.plot(variants, theoretical_vals, \"bs\", ms=8)\n",
    "\n",
    "plt.xlabel(\"x\")\n",
    "plt.ylabel(\"Плотность / относительная частота\")\n",
    "plt.title(\"Эмпирическая и теоретическая плотность гамма-распределения\")\n",
    "plt.legend()\n",
    "plt.grid(True)\n",
    "plt.show()"
   ]
  },
  {
   "cell_type": "code",
   "execution_count": 66,
   "id": "f656fbc4-1522-4601-ab3c-e7fb0736f4ec",
   "metadata": {},
   "outputs": [
    {
     "name": "stdout",
     "output_type": "stream",
     "text": [
      "Variable                     Type       Data/Info\n",
      "-------------------------------------------------\n",
      "H                            list       n=6\n",
      "a                            float      4.936400566639157\n",
      "alpha                        float      2.31\n",
      "b                            float      15.101599433360843\n",
      "beta                         float      0.043161434977578475\n",
      "densitys                     list       n=6\n",
      "dfd                          list       n=6\n",
      "empirical_x                  list       n=6\n",
      "empirical_y                  list       n=6\n",
      "gamma                        ufunc      <ufunc 'gamma'>\n",
      "i                            int        5\n",
      "l                            float      0.008478887569950822\n",
      "mean                         float      53.52\n",
      "n                            int        100\n",
      "np                           module     <module 'numpy' from '/ho<...>kages/numpy/__init__.py'>\n",
      "pdf                          list       n=6\n",
      "plt                          module     <module 'matplotlib.pyplo<...>es/matplotlib/pyplot.py'>\n",
      "rel_dfd                      list       n=6\n",
      "sm_1                         float      10.019\n",
      "sm_2                         float      108.9913\n",
      "theoretical_density          float      0.09837485848641384\n",
      "theoretical_vals             list       n=6\n",
      "theoretical_vals_at_points   list       n=6\n",
      "theoretical_x                ndarray    500: 500 elems, type `float64`, 4000 bytes\n",
      "theoretical_y                list       n=500\n",
      "variants                     list       n=6\n"
     ]
    }
   ],
   "source": [
    "%whos"
   ]
  },
  {
   "cell_type": "code",
   "execution_count": null,
   "id": "f70406f5-2d81-4f49-8d7d-8e3690e36372",
   "metadata": {},
   "outputs": [],
   "source": []
  }
 ],
 "metadata": {
  "kernelspec": {
   "display_name": "Python 3 (ipykernel)",
   "language": "python",
   "name": "python3"
  },
  "language_info": {
   "codemirror_mode": {
    "name": "ipython",
    "version": 3
   },
   "file_extension": ".py",
   "mimetype": "text/x-python",
   "name": "python",
   "nbconvert_exporter": "python",
   "pygments_lexer": "ipython3",
   "version": "3.13.3"
  }
 },
 "nbformat": 4,
 "nbformat_minor": 5
}
